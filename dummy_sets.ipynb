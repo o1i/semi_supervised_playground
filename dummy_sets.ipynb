{
 "cells": [
  {
   "cell_type": "code",
   "execution_count": null,
   "metadata": {},
   "outputs": [],
   "source": [
    "from matplotlib import cm\n",
    "import matplotlib.pyplot as plt\n",
    "\n",
    "import numpy as np\n",
    "from sklearn.semi_supervised import LabelPropagation, LabelSpreading, SelfTrainingClassifier\n",
    "from sklearn.ensemble import RandomForestClassifier\n",
    "from sklearn.naive_bayes import GaussianNB\n",
    "from sklearn.linear_model import LogisticRegression\n",
    "from sklearn.svm import SVC"
   ]
  },
  {
   "cell_type": "code",
   "execution_count": null,
   "metadata": {},
   "outputs": [],
   "source": [
    "def forceAspect(ax,aspect=1):\n",
    "    im = ax.get_images()\n",
    "    extent =  im[0].get_extent()\n",
    "    ax.set_aspect(abs((extent[1]-extent[0])/(extent[3]-extent[2]))/aspect)\n"
   ]
  },
  {
   "cell_type": "markdown",
   "metadata": {},
   "source": [
    "### Dummy datasets"
   ]
  },
  {
   "cell_type": "markdown",
   "metadata": {},
   "source": [
    "##### Utilities"
   ]
  },
  {
   "cell_type": "code",
   "execution_count": null,
   "metadata": {},
   "outputs": [],
   "source": [
    "def plot_data(X, y, cmap=cm.get_cmap('RdBu', 100), title=None):\n",
    "    fig, ax = plt.subplots()\n",
    "    z=y.copy().astype(float)\n",
    "    z[z==-1] = 0.5\n",
    "    ind = np.argsort(np.abs(z-0.5))\n",
    "    plt.scatter(*X[ind, :].T, c=cmap(z[ind]))\n",
    "    if title is not None:\n",
    "        plt.title(title)\n",
    "    ax.set_aspect(aspect='equal')"
   ]
  },
  {
   "cell_type": "code",
   "execution_count": null,
   "metadata": {},
   "outputs": [],
   "source": [
    "def mask_all_but(y, n):\n",
    "    y = y.astype(int)\n",
    "    y[np.random.choice(range(len(y)), len(y) - n, replace=False)] = -1  # sklearn convention\n",
    "    return y"
   ]
  },
  {
   "cell_type": "code",
   "execution_count": null,
   "metadata": {},
   "outputs": [],
   "source": [
    "np.random.seed(75)"
   ]
  },
  {
   "cell_type": "code",
   "execution_count": null,
   "metadata": {},
   "outputs": [],
   "source": [
    "n_labels = 9"
   ]
  },
  {
   "cell_type": "markdown",
   "metadata": {},
   "source": [
    "##### Band"
   ]
  },
  {
   "cell_type": "markdown",
   "metadata": {},
   "source": [
    "Diagonal band of emptyness between two triangles, each of which represents a class."
   ]
  },
  {
   "cell_type": "code",
   "execution_count": null,
   "metadata": {},
   "outputs": [],
   "source": [
    "x_band = np.random.random([200, 2]) * np.array([3, 1])\n",
    "x_band = x_band[np.abs(x_band[:, 1] - 0.3 * x_band[:, 0]) > 0.15]\n",
    "y_band = mask_all_but(np.clip(np.sign(x_band[:, 1] - 0.3 * x_band[:, 0]), 0, 1), n_labels)"
   ]
  },
  {
   "cell_type": "code",
   "execution_count": null,
   "metadata": {},
   "outputs": [],
   "source": [
    "plot_data(x_band, y_band)"
   ]
  },
  {
   "cell_type": "markdown",
   "metadata": {},
   "source": [
    "##### Rings"
   ]
  },
  {
   "cell_type": "markdown",
   "metadata": {},
   "source": [
    "Two rings of different classes touching each other"
   ]
  },
  {
   "cell_type": "code",
   "execution_count": null,
   "metadata": {},
   "outputs": [],
   "source": [
    "x_rings = np.random.random([700, 2]) * np.array([2, 1])\n",
    "rad_1 = ((x_rings - np.array([0.5, 0.5]))**2).sum(axis=1)\n",
    "rad_2 = ((x_rings - np.array([1.5, 0.5]))**2).sum(axis=1)\n",
    "x_rings = x_rings[((rad_1 > 0.3**2) & (rad_1 < 0.5**2)) | ((rad_2 > 0.3**2) & (rad_2 < 0.5**2)), :]\n",
    "rad_1 = ((x_rings - np.array([0.5, 0.5]))**2).sum(axis=1)\n",
    "y_rings = mask_all_but(((rad_1 > 0.3**2) & (rad_1 < 0.5**2)).astype(float), n_labels)"
   ]
  },
  {
   "cell_type": "code",
   "execution_count": null,
   "metadata": {
    "scrolled": false
   },
   "outputs": [],
   "source": [
    "plot_data(x_rings, y_rings)"
   ]
  },
  {
   "cell_type": "markdown",
   "metadata": {},
   "source": [
    "#### Filled rings"
   ]
  },
  {
   "cell_type": "markdown",
   "metadata": {},
   "source": [
    "Rings but filled with blobs. This is an example with disjunct target regions."
   ]
  },
  {
   "cell_type": "code",
   "execution_count": null,
   "metadata": {},
   "outputs": [],
   "source": [
    "x_rings2 = np.random.random([700, 2]) * np.array([2, 1])\n",
    "rad_1 = ((x_rings2 - np.array([0.5, 0.5]))**2).sum(axis=1)\n",
    "rad_2 = ((x_rings2 - np.array([1.5, 0.5]))**2).sum(axis=1)\n",
    "x_rings2 = x_rings2[\n",
    "    ((rad_1 > 0.3**2) & (rad_1 < 0.5**2)) | \n",
    "    ((rad_2 > 0.3**2) & (rad_2 < 0.5**2)) |\n",
    "    (rad_1 < 0.2**2) |\n",
    "    (rad_2 < 0.2**2), \n",
    "    :]\n",
    "rad_1 = ((x_rings2 - np.array([0.5, 0.5]))**2).sum(axis=1)\n",
    "rad_2 = ((x_rings2 - np.array([1.5, 0.5]))**2).sum(axis=1)\n",
    "y_rings2 = mask_all_but((((rad_1 > 0.3**2) & (rad_1 < 0.5**2)) | (rad_2 < 0.2 ** 2)).astype(float), n_labels*2)"
   ]
  },
  {
   "cell_type": "code",
   "execution_count": null,
   "metadata": {},
   "outputs": [],
   "source": [
    "plot_data(x_rings2, y_rings2)"
   ]
  },
  {
   "cell_type": "markdown",
   "metadata": {},
   "source": [
    "##### Blobs"
   ]
  },
  {
   "cell_type": "markdown",
   "metadata": {},
   "source": [
    "Two 2d spherical normals"
   ]
  },
  {
   "cell_type": "code",
   "execution_count": null,
   "metadata": {},
   "outputs": [],
   "source": [
    "n = 70\n",
    "x_blobs = np.concatenate([\n",
    "    np.random.normal(size=[n, 2]) + np.array([3, 3]),\n",
    "    np.random.normal(size=[n, 2])\n",
    "])\n",
    "y_blobs = mask_all_but(np.concatenate([np.ones(n), np.zeros(n)]), n_labels)"
   ]
  },
  {
   "cell_type": "code",
   "execution_count": null,
   "metadata": {},
   "outputs": [],
   "source": [
    "plot_data(x_blobs, y_blobs)"
   ]
  },
  {
   "cell_type": "markdown",
   "metadata": {},
   "source": [
    "## Semi-Supervised classification on dummies"
   ]
  },
  {
   "cell_type": "markdown",
   "metadata": {},
   "source": [
    "### Scikit-Learn"
   ]
  },
  {
   "cell_type": "markdown",
   "metadata": {},
   "source": [
    "Scikit offers some approaches [out of the box](https://scikit-learn.org/stable/modules/semi_supervised.html)."
   ]
  },
  {
   "cell_type": "markdown",
   "metadata": {},
   "source": [
    "#### Self Training Classifiers"
   ]
  },
  {
   "cell_type": "code",
   "execution_count": null,
   "metadata": {},
   "outputs": [],
   "source": [
    "stcs = {\n",
    "\"Logistic, threshold\" : SelfTrainingClassifier(\n",
    "    base_estimator=LogisticRegression(),\n",
    "    criterion=\"threshold\",  # Only well calibrated estimator. Not enough labels for others.\n",
    "    max_iter=None\n",
    "),\n",
    "\"Logistic, k-best\" : SelfTrainingClassifier(\n",
    "    base_estimator=LogisticRegression(),\n",
    "    criterion=\"k_best\",\n",
    "    max_iter=None\n",
    "),\n",
    "\"Random Forest\" : SelfTrainingClassifier(\n",
    "    base_estimator=RandomForestClassifier(n_estimators=100, n_jobs=-1),\n",
    "    criterion=\"k_best\",\n",
    "    max_iter=None\n",
    "),\n",
    "\"Naive Bayes\" : SelfTrainingClassifier(\n",
    "    base_estimator=GaussianNB(),\n",
    "    criterion=\"k_best\",\n",
    "    max_iter=None\n",
    "),\n",
    "\"SVC\" : SelfTrainingClassifier(\n",
    "    base_estimator=SVC(probability=True),\n",
    "    criterion=\"k_best\",\n",
    "    max_iter=None\n",
    "),\n",
    "}"
   ]
  },
  {
   "cell_type": "code",
   "execution_count": null,
   "metadata": {},
   "outputs": [],
   "source": [
    "for label, stc in stcs.items():\n",
    "    stc.fit(x_band, y_band)\n",
    "    plot_data(x_band, stc.predict_proba(x_band)[:, 1], title=label)"
   ]
  },
  {
   "cell_type": "code",
   "execution_count": null,
   "metadata": {},
   "outputs": [],
   "source": [
    "for label, stc in stcs.items():\n",
    "    stc.fit(x_rings, y_rings)\n",
    "    plot_data(x_rings, stc.predict_proba(x_rings)[:, 1], title=label)"
   ]
  },
  {
   "cell_type": "code",
   "execution_count": null,
   "metadata": {},
   "outputs": [],
   "source": [
    "for label, stc in stcs.items():\n",
    "    stc.fit(x_rings2, y_rings2)\n",
    "    plot_data(x_rings2, stc.predict_proba(x_rings2)[:, 1], title=label)"
   ]
  },
  {
   "cell_type": "code",
   "execution_count": null,
   "metadata": {},
   "outputs": [],
   "source": [
    "for label, stc in stcs.items():\n",
    "    stc.fit(x_blobs, y_blobs)\n",
    "    plot_data(x_blobs, stc.predict_proba(x_blobs)[:, 1], title=label)"
   ]
  },
  {
   "cell_type": "markdown",
   "metadata": {},
   "source": [
    "#### Label Propagation"
   ]
  },
  {
   "cell_type": "markdown",
   "metadata": {},
   "source": [
    "#### Label Spreading"
   ]
  }
 ],
 "metadata": {
  "kernelspec": {
   "display_name": "Python 3",
   "language": "python",
   "name": "python3"
  },
  "language_info": {
   "codemirror_mode": {
    "name": "ipython",
    "version": 3
   },
   "file_extension": ".py",
   "mimetype": "text/x-python",
   "name": "python",
   "nbconvert_exporter": "python",
   "pygments_lexer": "ipython3",
   "version": "3.8.5"
  }
 },
 "nbformat": 4,
 "nbformat_minor": 2
}
